{
 "cells": [
  {
   "cell_type": "code",
   "execution_count": null,
   "metadata": {},
   "outputs": [],
   "source": [
    "# This notebook is NOT executable. It is only provided as part of the documentation for the analysis.\n",
    "# Please make your copy and take care of the paths to your data and tools."
   ]
  },
  {
   "cell_type": "code",
   "execution_count": null,
   "metadata": {},
   "outputs": [],
   "source": [
    "# mRNA pipeline on modENCODE data"
   ]
  },
  {
   "cell_type": "code",
   "execution_count": null,
   "metadata": {},
   "outputs": [],
   "source": [
    "%%bash\n",
    "mRNA-seq -i path/to/fastq -o path/to/output -v -j 20 --trim --fastqc dm6_ensembl96.yaml"
   ]
  },
  {
   "cell_type": "code",
   "execution_count": null,
   "metadata": {},
   "outputs": [],
   "source": [
    "#deseq size factor\n",
    "#rawcount/sf\n",
    "#log2"
   ]
  },
  {
   "cell_type": "code",
   "execution_count": null,
   "metadata": {},
   "outputs": [],
   "source": [
    "import numpy as np \n",
    "import pandas as pd\n",
    "import scipy as sp\n",
    "import matplotlib.pyplot as plt"
   ]
  },
  {
   "cell_type": "code",
   "execution_count": null,
   "metadata": {},
   "outputs": [],
   "source": [
    "# read raw count table"
   ]
  },
  {
   "cell_type": "code",
   "execution_count": null,
   "metadata": {},
   "outputs": [],
   "source": [
    "modEnc_rawCount = \"path/to/output/featureCounts/counts.tsv\"\n",
    "genes_id = \"path/to/grouping.gene_id.tsv\""
   ]
  },
  {
   "cell_type": "code",
   "execution_count": null,
   "metadata": {},
   "outputs": [],
   "source": [
    "counts = pd.read_csv(modEnc_rawCount, sep = \"\\t\")\n",
    "counts.rename(columns={\"Unnamed: 0\": \"gene_id\"}, inplace = True)"
   ]
  },
  {
   "cell_type": "code",
   "execution_count": null,
   "metadata": {},
   "outputs": [],
   "source": [
    "# this part has been done in R, not here!"
   ]
  },
  {
   "cell_type": "code",
   "execution_count": null,
   "metadata": {},
   "outputs": [],
   "source": [
    "# %R #(Doesn't work in notebook, it needs to be fixed, for now the code just got copied from running R)\n",
    "# #On snakepipes_RNAseq_environment_0.1\n",
    "#R (on terminal)\n",
    "# library(DESeq2)\n",
    "# counts <- read.table(modEnc_rawCount)\n",
    "# deseq2 <- DESeq2::estimateSizeFactorsForMatrix(counts[,-1], locfunc = stats::median)\n",
    "# write.table(deseq2, \"deseq2_factors.tsv\", sep = \"\\t\" )"
   ]
  },
  {
   "cell_type": "code",
   "execution_count": null,
   "metadata": {},
   "outputs": [],
   "source": [
    "deseq_norm = counts.copy()\n",
    "deseq2_sf = pd.read_csv(\"deseq2_factors.tsv\", sep = \"\\t\", header = None)\n",
    "deseq2_sf = deseq2_sf.T\n",
    "new_header = deseq2_sf.iloc[0] \n",
    "deseq2_sf = deseq2_sf[1:] \n",
    "deseq2_sf.columns = new_header \n",
    "deseq2_sf.reset_index(inplace=True,drop=True)\n",
    "for col in deseq_norm.columns:\n",
    "    if col is not 'gene_id':\n",
    "        deseq_norm[col] = deseq_norm[col] + 1 # pseudo count\n",
    "        deseq_norm[col] = deseq_norm[col]/float(deseq2_sf[col])\n"
   ]
  },
  {
   "cell_type": "code",
   "execution_count": null,
   "metadata": {
    "scrolled": true
   },
   "outputs": [],
   "source": [
    "#Average of replicates\n",
    "avg_counts = deseq_norm.copy()\n",
    "\n",
    "for time in [\"0-2\",\"2-4\",\"10-12\",\"12-14\",\"16-18\",\"18-20\",\"20-22\",\"22-24\"]:\n",
    "    reps = [\"embryos_\"+time+\"_hr.x\", \"embryos_\"+time+\"_hr.y\"]\n",
    "    avg_counts[time] = avg_counts[reps].mean(axis=1)\n",
    "    avg_counts.drop(reps, inplace= True, axis =1)\n",
    "    for time in [\"14-16\",\"6-8\",\"4-6\",\"8-10\"]:\n",
    "        rep = \"embryos_\"+time+\"_hr\"\n",
    "        avg_counts.rename(columns={rep: time}, inplace = True)\n",
    "avg_counts = avg_counts[[\"gene_id\",\"0-2\",\"2-4\",\"4-6\",\"6-8\",\"8-10\",\"10-12\",\"12-14\",\"14-16\",\"16-18\",\"18-20\",\"20-22\",\"22-24\"]]"
   ]
  },
  {
   "cell_type": "code",
   "execution_count": null,
   "metadata": {
    "scrolled": true
   },
   "outputs": [],
   "source": [
    "#log2\n",
    "log2_counts = avg_counts.copy()\n",
    "for col in [\"0-2\",\"2-4\",\"4-6\",\"6-8\",\"8-10\",\"10-12\",\"12-14\",\"14-16\",\"16-18\",\"18-20\",\"20-22\",\"22-24\"]:\n",
    "    log2_counts[col] = (log2_counts[col]).astype(float)\n",
    "    log2_counts[col] = np.log2(log2_counts[col]) # if value==o then log2(1)=0"
   ]
  },
  {
   "cell_type": "code",
   "execution_count": null,
   "metadata": {},
   "outputs": [],
   "source": [
    "log2_counts.to_csv(\"log2_deseq2_normalised_counts.tsv\", sep = \"\\t\", index=False)"
   ]
  },
  {
   "cell_type": "code",
   "execution_count": null,
   "metadata": {},
   "outputs": [],
   "source": [
    "dafnes_genes = pd.read_csv(genes_id, sep = \"\\t\", usecols=[\"gene_id\",\"fig3.group\"])\n",
    "mapped = pd.merge(log2_counts, dafnes_genes, how='inner', on = 'gene_id') "
   ]
  },
  {
   "cell_type": "code",
   "execution_count": null,
   "metadata": {
    "scrolled": true
   },
   "outputs": [],
   "source": [
    "# sort by 'fig3.group' \n",
    "mapped.sort_values(by=['fig3.group'],inplace=True)\n",
    "mapped.reset_index(inplace=True,drop=True)"
   ]
  },
  {
   "cell_type": "code",
   "execution_count": null,
   "metadata": {},
   "outputs": [],
   "source": []
  }
 ],
 "metadata": {
  "kernelspec": {
   "display_name": " Python 3.6 ipython@maximus (MPI-IE)",
   "language": "",
   "name": "rik_ssh_maximus_python36ipythonmaximusmpiie"
  },
  "language_info": {
   "codemirror_mode": {
    "name": "ipython",
    "version": 3
   },
   "file_extension": ".py",
   "mimetype": "text/x-python",
   "name": "python",
   "nbconvert_exporter": "python",
   "pygments_lexer": "ipython3",
   "version": "3.6.7"
  }
 },
 "nbformat": 4,
 "nbformat_minor": 2
}
