{
 "cells": [
  {
   "cell_type": "code",
   "execution_count": 1,
   "metadata": {},
   "outputs": [],
   "source": [
    "# This notebook is NOT executable. It is only provided as part of the documentation of the analysis.\n",
    "# Please take care of the paths to your data and tools."
   ]
  },
  {
   "cell_type": "code",
   "execution_count": 2,
   "metadata": {},
   "outputs": [],
   "source": [
    "# Running HiC pipeline of snakepipes-2.1.0:"
   ]
  },
  {
   "cell_type": "code",
   "execution_count": 3,
   "metadata": {},
   "outputs": [],
   "source": [
    "%%bash \n",
    "module load snakePipes/2.1.0; \n",
    "HiC -i path/to/fastq -o path/to/otuput/ \\\n",
    "--enzyme DpnII dm6 --distVsCount --fastqc -v --DAG --binSize 2000 \\\n",
    "--correctionMethod KR  --noTAD --mergeSamples --sampleSheet path/to/sampleSheet.tsv"
   ]
  },
  {
   "cell_type": "code",
   "execution_count": 4,
   "metadata": {},
   "outputs": [],
   "source": [
    "# The above step has been repeated with --binSize 30000"
   ]
  },
  {
   "cell_type": "code",
   "execution_count": 5,
   "metadata": {},
   "outputs": [],
   "source": [
    "# Calling TADs - WT"
   ]
  },
  {
   "cell_type": "code",
   "execution_count": 6,
   "metadata": {},
   "outputs": [],
   "source": [
    "%%bash\n",
    "module load  HiCExplorer/3.4.3;\n",
    "hicFindTADs -m path/to/output/HiC_matrices_corrected/mergedSamples_wt_bs2kb.corrected.h5 \\\n",
    "--thresholdComparisons 0.01 --correctForMultipleTesting bonferroni --minDepth 20000 --maxDepth 100000 \\\n",
    "--step 2000 --delta 0.01 -p 10 --outPrefix mergedSamples_wt_bs2kb.corrected_bonferroni "
   ]
  },
  {
   "cell_type": "code",
   "execution_count": 7,
   "metadata": {},
   "outputs": [],
   "source": [
    "# bedgraph to bigwig:"
   ]
  },
  {
   "cell_type": "code",
   "execution_count": 8,
   "metadata": {},
   "outputs": [],
   "source": [
    "%%bash\n",
    "module load UCSCtools; \n",
    "bedGraphToBigWig mergedSamples_wt_bs2kb.corrected_bonferroni_score.bedgraph \\\n",
    "path/to/dm6_ensembl/genome_fasta/genome.chrom.sizes \\\n",
    "mergedSamples_wt_bs2kb.corrected_bonferroni_score.bw"
   ]
  },
  {
   "cell_type": "code",
   "execution_count": 9,
   "metadata": {},
   "outputs": [],
   "source": [
    "# Calling TADs - KD"
   ]
  },
  {
   "cell_type": "code",
   "execution_count": 10,
   "metadata": {},
   "outputs": [],
   "source": [
    "%%bash\n",
    "module load  HiCExplorer/3.4.3;\n",
    "hicFindTADs -m path/to/output/HiC_matrices_corrected/mergedSamples_kd_bs2kb.corrected.h5 \\\n",
    "--thresholdComparisons 0.01 --correctForMultipleTesting bonferroni --minDepth 20000 --maxDepth 100000 \\\n",
    "--step 2000 --delta 0.01 -p 10 --outPrefix mergedSamples_kd_bs2kb.corrected_bonferroni "
   ]
  },
  {
   "cell_type": "code",
   "execution_count": 11,
   "metadata": {},
   "outputs": [],
   "source": [
    "# bedgraph to bigwig:"
   ]
  },
  {
   "cell_type": "code",
   "execution_count": 12,
   "metadata": {},
   "outputs": [],
   "source": [
    "%%bash\n",
    "module load UCSCtools; \n",
    "bedGraphToBigWig mergedSamples_kd_bs2kb.corrected_bonferroni_score.bedgraph \\\n",
    "path/to/dm6_ensembl/genome_fasta/genome.chrom.sizes \\\n",
    "mergedSamples_kd_bs2kb.corrected_bonferroni_score.bw"
   ]
  },
  {
   "cell_type": "code",
   "execution_count": 13,
   "metadata": {},
   "outputs": [],
   "source": [
    "# compuitng the log2(kd/wt) matrix on 30kb resolution"
   ]
  },
  {
   "cell_type": "code",
   "execution_count": 14,
   "metadata": {},
   "outputs": [],
   "source": [
    "%%bash\n",
    "module load  HiCExplorer/3.4.3;\n",
    "hicCompareMatrices -m path/to/output/HiC_matrices_corrected/mergedSamples_kd_bs30kb.corrected.h5 \\\n",
    "path/to/output/HiC_matrices_corrected/mergedSamples_wt_bs30kb.corrected.h5 --operation log2ratio \\\n",
    "-o kd_to_wt_30kb_log2ratio.h5"
   ]
  },
  {
   "cell_type": "code",
   "execution_count": null,
   "metadata": {},
   "outputs": [],
   "source": []
  }
 ],
 "metadata": {
  "kernelspec": {
   "display_name": " Python 3.6 ipython@maximus (MPI-IE)",
   "language": "",
   "name": "rik_ssh_maximus_python36ipythonmaximusmpiie"
  },
  "language_info": {
   "codemirror_mode": {
    "name": "ipython",
    "version": 3
   },
   "file_extension": ".py",
   "mimetype": "text/x-python",
   "name": "python",
   "nbconvert_exporter": "python",
   "pygments_lexer": "ipython3",
   "version": "3.6.7"
  }
 },
 "nbformat": 4,
 "nbformat_minor": 2
}
