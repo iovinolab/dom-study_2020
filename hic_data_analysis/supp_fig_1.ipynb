{
 "cells": [
  {
   "cell_type": "code",
   "execution_count": null,
   "metadata": {},
   "outputs": [],
   "source": [
    "# This notebook is NOT executable. It is only provided as part of the documentation for the analysis.\n",
    "# Please make your copy and take care of the paths to your data and tools."
   ]
  },
  {
   "cell_type": "code",
   "execution_count": null,
   "metadata": {},
   "outputs": [],
   "source": [
    "# Supplementary Figure 1"
   ]
  },
  {
   "cell_type": "code",
   "execution_count": null,
   "metadata": {},
   "outputs": [],
   "source": [
    "import pandas as pd\n",
    "import numpy as np\n",
    "import matplotlib.pyplot as plt\n",
    "import os\n",
    "import subprocess as sp"
   ]
  },
  {
   "cell_type": "code",
   "execution_count": null,
   "metadata": {},
   "outputs": [],
   "source": [
    "tad_path=\"path/to/tad\"\n",
    "output_path=\"path/output\"\n",
    "bed_path = \"path/to/groups/bedfiles/\""
   ]
  },
  {
   "cell_type": "code",
   "execution_count": null,
   "metadata": {},
   "outputs": [],
   "source": [
    "in_path = os.path.join(tad_path)\n",
    "out_path = os.path.join(output_path)\n",
    "bed_path = os.path.join(bed_path)\n",
    "boundaries_file = os.path.join(in_path, \"mergedSamples_wt_bs2kb.corrected_bonferroni_boundaries.bed\")"
   ]
  },
  {
   "cell_type": "code",
   "execution_count": null,
   "metadata": {},
   "outputs": [],
   "source": [
    "# Supplementary Figure 1B"
   ]
  },
  {
   "cell_type": "code",
   "execution_count": null,
   "metadata": {},
   "outputs": [],
   "source": [
    "# Insualtion score of WT hic data on the TSS of different groups of genes"
   ]
  },
  {
   "cell_type": "code",
   "execution_count": null,
   "metadata": {},
   "outputs": [],
   "source": [
    "cmd = \"module load deeptools;\"\n",
    "cmd += \"computeMatrix reference-point \"\n",
    "cmd += \"-S \"+in_path+\"mergedSamples_wt_bs2kb.corrected_bonferroni_score.bw \"\n",
    "cmd += \"-R \"\n",
    "cmd += bed_path+\"Domino-study.grouping_figure3.TSS_uniq.group_h2av-.bed \"\n",
    "cmd += bed_path+\"Domino-study.grouping_figure3.TSS_uniq.group_h2av+.bed \"\n",
    "cmd += bed_path+\"Domino-study.grouping_figure3.TSS_uniq.group_zld-dep.bed \"\n",
    "cmd += \"-a 100000 -b 100000 --referencePoint TSS -o \"+out_path+\"insulationScoreOnRegions.matrix.gz \"\n",
    "cmd += \"--missingDataAsZero -p 20 -bs 2000 \"\n",
    "print(cmd)\n",
    "sp.check_output(cmd, shell = True)"
   ]
  },
  {
   "cell_type": "code",
   "execution_count": null,
   "metadata": {},
   "outputs": [],
   "source": [
    "cmd = \"module load deeptools/3.4.3;\"\n",
    "cmd += \"plotHeatmap -m \"+out_path+\"insulationScoreOnRegions.matrix.gz \"\n",
    "cmd += \"-o \"+out_path+\"insulationScoreOnRegions.plotheatmap.pdf --samplesLabel 'wt insulation score' \"\n",
    "cmd += \"--dpi 300 --colorMap RdBu  --whatToShow 'heatmap and colorbar' --regionsLabel h2av- h2av+ zld-dep \"\n",
    "cmd += \"--zMin -0.3 --zMax 0.3 \"\n",
    "sp.check_output(cmd, shell = True)"
   ]
  },
  {
   "cell_type": "code",
   "execution_count": null,
   "metadata": {},
   "outputs": [],
   "source": [
    "# Supplementary Figure 1C"
   ]
  },
  {
   "cell_type": "code",
   "execution_count": null,
   "metadata": {},
   "outputs": [],
   "source": [
    "cmd = \"module load deeptools/3.4.3;\"\n",
    "cmd += \"plotProfile -m \"+out_path+\"insulationScoreOnRegions.matrix.gz \"\n",
    "cmd += \"-o \"+out_path+\"insulationScoreOnRegions.plotProfile.pdf \"\n",
    "cmd += \"--dpi 300 --legendLocation none --colors '#0F4C81' '#FA7A35' '#1D6960' \"\n",
    "cmd += \"--refPointLabel TSS -z h2av- h2av+ zld-dep --samplesLabel 'wt insulation score' \"\n",
    "sp.check_output(cmd, shell = True)"
   ]
  },
  {
   "cell_type": "code",
   "execution_count": null,
   "metadata": {},
   "outputs": [],
   "source": [
    "# Supplementary Figure 1D"
   ]
  },
  {
   "cell_type": "code",
   "execution_count": null,
   "metadata": {},
   "outputs": [],
   "source": [
    "for file in os.listdir(bed_path):\n",
    "    if file.endswith(\".bed\"):\n",
    "        cmd = \"module load bedtools2;\"\n",
    "        cmd += \"bedtools sort -i \"+bed_path+file+\" | \"\n",
    "        cmd += \"bedtools closest -k 1 -d -a stdin \"\n",
    "        cmd += \" -b \"+boundaries_file+\" > \"\n",
    "        cmd += \"boundaries_dist_to_\"+file.split(\"_\")[-1]\n",
    "        sp.check_output(cmd, shell=True)"
   ]
  },
  {
   "cell_type": "code",
   "execution_count": null,
   "metadata": {},
   "outputs": [],
   "source": [
    "h2av_pos = pd.read_csv(\"boundaries_dist_to_h2av+.bed\", sep = \"\\t\", header = None)\n",
    "h2av_neg = pd.read_csv(\"boundaries_dist_to_h2av-.bed\", sep = \"\\t\", header = None)\n",
    "zld_dep = pd.read_csv(\"boundaries_dist_to_zld-dep.bed\", sep = \"\\t\", header = None)\n",
    "inactive = pd.read_csv(\"boundaries_dist_to_inactive.bed\", sep = \"\\t\", header = None)\n",
    "inactive = inactive.loc[inactive[12] != -1 ]"
   ]
  },
  {
   "cell_type": "code",
   "execution_count": null,
   "metadata": {},
   "outputs": [],
   "source": [
    "dist_h2av_pos = h2av_pos[12]\n",
    "dist_h2av_neg = h2av_neg[12]\n",
    "dist_zld_dep = zld_dep[12]\n",
    "dist_inactive = inactive[12]"
   ]
  },
  {
   "cell_type": "code",
   "execution_count": null,
   "metadata": {},
   "outputs": [],
   "source": [
    "labels=[\"inactive\", \"h2av_neg\", \"h2av_pos\", \"zld_dep\"]\n",
    "colors = ['#873600', '#0F4C81', '#FA7A35', '#1D6960']\n",
    "data = [dist_inactive.values, dist_h2av_neg.values,\n",
    "        dist_h2av_pos.values, dist_zld_dep.values]\n",
    "fig, ax = plt.subplots()\n",
    "parts = ax.violinplot(data, showextrema=False)\n",
    "for ind, pc in enumerate(parts['bodies']):\n",
    "    pc.set_facecolor(colors[ind])\n",
    "    pc.set_edgecolor(colors[ind])\n",
    "    pc.set_alpha(1)\n",
    "\n",
    "whiskers = []\n",
    "medians = np.array([])\n",
    "q1s = np.array([])\n",
    "q3s = np.array([])\n",
    "for x in data:\n",
    "    x = np.sort(x)\n",
    "    q1, median, q3 = np.percentile(x, [25, 50, 75])\n",
    "    print(q1, median, q3)\n",
    "    upper_adjacent_value = q3 + (q3 - q1) * 1.5\n",
    "    upper_adjacent_value = np.clip(upper_adjacent_value, q3, x[-1])\n",
    "    lower_adjacent_value = q1 - (q3 - q1) * 1.5\n",
    "    lower_adjacent_value = np.clip(lower_adjacent_value, x[0], q1)\n",
    "    whiskers.append([lower_adjacent_value, upper_adjacent_value])\n",
    "    medians = np.append(medians, median)\n",
    "    q1s = np.append(q1s,q1)\n",
    "    q3s = np.append(q3s,q3)\n",
    "whiskers=np.asarray(whiskers)\n",
    "whiskers_min, whiskers_max = whiskers[:, 0], whiskers[:, 1]\n",
    "inds = np.arange(1, len(medians) + 1)\n",
    "ax.scatter(inds, medians, marker='o', color='white', s=30, zorder=3)\n",
    "ax.vlines(inds, q1s, q3s, color='k', linestyle='-', lw=5)\n",
    "ax.vlines(inds, whiskers_min, whiskers_max, color='k', linestyle='-', lw=1)\n",
    "ax.set_ylabel('Distance')\n",
    "ax.get_xaxis().set_tick_params(direction='out')\n",
    "ax.xaxis.set_ticks_position('bottom')\n",
    "ax.set_xticks(np.arange(1, 5))\n",
    "ax.set_xticklabels(labels)\n",
    "ax.set_xlim(0.25, len(labels) + 0.75)\n",
    "plt.ylim((-1000,80000))\n",
    "plt.savefig(\"violinplot_zoomedIn.pdf\",dpi=300)"
   ]
  }
 ],
 "metadata": {
  "kernelspec": {
   "display_name": " Python 3.6 ipython@maximus (MPI-IE)",
   "language": "",
   "name": "rik_ssh_maximus_python36ipythonmaximusmpiie"
  },
  "language_info": {
   "codemirror_mode": {
    "name": "ipython",
    "version": 3
   },
   "file_extension": ".py",
   "mimetype": "text/x-python",
   "name": "python",
   "nbconvert_exporter": "python",
   "pygments_lexer": "ipython3",
   "version": "3.6.7"
  }
 },
 "nbformat": 4,
 "nbformat_minor": 2
}
