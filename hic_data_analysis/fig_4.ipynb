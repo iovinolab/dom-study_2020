{
 "cells": [
  {
   "cell_type": "code",
   "execution_count": null,
   "metadata": {},
   "outputs": [],
   "source": [
    "# This notebook is NOT executable. It is only provided as part of the documentation for the analysis.\n",
    "# Please make your copy and take care of the paths to your data and tools."
   ]
  },
  {
   "cell_type": "code",
   "execution_count": null,
   "metadata": {},
   "outputs": [],
   "source": [
    "# Figure 4"
   ]
  },
  {
   "cell_type": "code",
   "execution_count": null,
   "metadata": {},
   "outputs": [],
   "source": [
    "import subprocess as sp\n",
    "import os"
   ]
  },
  {
   "cell_type": "code",
   "execution_count": null,
   "metadata": {},
   "outputs": [],
   "source": [
    "tad_path=\"path/to/tad\"\n",
    "output_path=\"path/output\"\n",
    "bed_path = \"path/to/groups/bedfiles/\"\n",
    "chip_bw_path = \"path/to/domino/chip/\""
   ]
  },
  {
   "cell_type": "code",
   "execution_count": null,
   "metadata": {},
   "outputs": [],
   "source": [
    "in_path = os.path.join(tad_path)\n",
    "out_path = os.path.join(output_path)"
   ]
  },
  {
   "cell_type": "code",
   "execution_count": null,
   "metadata": {},
   "outputs": [],
   "source": [
    "# Figure 4B"
   ]
  },
  {
   "cell_type": "code",
   "execution_count": null,
   "metadata": {},
   "outputs": [],
   "source": [
    "# Insualtion score on the TSS of different groups of genes"
   ]
  },
  {
   "cell_type": "code",
   "execution_count": null,
   "metadata": {},
   "outputs": [],
   "source": [
    "bws=\"\"\n",
    "for cond in [\"wt\",\"kd\"]:\n",
    "    bws += in_path+\"mergedSamples_\"+cond+\"_bs2kb.corrected_bonferroni_score.bw \"\n",
    "cmd = \"module load deeptools/3.4.3;\" # change it to the path to your own deeptools installation \n",
    "cmd += \"computeMatrix reference-point \"\n",
    "cmd += \"-S \"+bws\n",
    "cmd += \"-R \"\n",
    "cmd += bed_path+\"h2av-.bed \"\n",
    "cmd += bed_path+\"h2av+.bed \"\n",
    "cmd += bed_path+\"zld-dep.bed \"\n",
    "cmd += \"-a 100000 -b 100000 --referencePoint TSS -o \"+out_path+\"wtKd_insulationScoreOnRegions.matrix.gz \"\n",
    "cmd += \"--missingDataAsZero -p 20 -bs 2000 \"\n",
    "sp.check_output(cmd, shell = True)"
   ]
  },
  {
   "cell_type": "code",
   "execution_count": null,
   "metadata": {},
   "outputs": [],
   "source": [
    "cmd = \"module load deeptools/3.4.3;\"\n",
    "cmd += \"plotProfile -m \"+out_path+\"wtKd_insulationScoreOnRegions.matrix.gz \"\n",
    "cmd += \"-o \"+out_path+\"wtKd_insulationScoreOnRegions.plotProfile_perGroup.pdf --colors '#57585D' '#880C19' \"\n",
    "cmd += \"--perGroup --dpi 300 -z h2av- h2av+ zld-dep  --samplesLabel wt kd --refPointLabel TSS \"\n",
    "cmd += \"--yMin -0.1 --yMax 0.05 \"\n",
    "sp.check_output(cmd, shell = True)"
   ]
  },
  {
   "cell_type": "code",
   "execution_count": null,
   "metadata": {},
   "outputs": [],
   "source": [
    "# Figure 4C"
   ]
  },
  {
   "cell_type": "code",
   "execution_count": null,
   "metadata": {},
   "outputs": [],
   "source": [
    "# computeMatrix on WT chip\n",
    "cmd = \"module load deeptools/3.4.3;\" # change it to the path to your own deeptools installation \n",
    "cmd += \"computeMatrix reference-point \"\n",
    "cmd += \"-S \"+chip_path_subtract+\"H2Av.subtract_input.t180.pooled.bw \"\n",
    "cmd += \"-R \"\n",
    "cmd += bed_path+\"h2av-.bed \"\n",
    "cmd += bed_path+\"h2av+.bed \"\n",
    "cmd += bed_path+\"zld-dep.bed \"\n",
    "cmd += \"--outFileSortedRegions \"+out_path+\"regions_sorted_by_wt_chips.tsv \"\n",
    "cmd += \"-a 1000 -b 1000 --referencePoint TSS -o \"+out_path+\"OnlyWtChipOnRegions.matrix.gz \"\n",
    "cmd += \"--missingDataAsZero -p 20 --sortRegions descend \"\n",
    "print(cmd)\n",
    "sp.check_output(cmd, shell = True)"
   ]
  },
  {
   "cell_type": "code",
   "execution_count": null,
   "metadata": {},
   "outputs": [],
   "source": [
    "# computeMatrix on insulation scores\n",
    "bws = \"\"\n",
    "for cond in [\"wt\",\"kd\"]:\n",
    "    bws += in_path+\"mergedSamples_\"+cond+\"_bs2kb.corrected_bonferroni_score.bw \"\n",
    "cmd = \"module load deeptools/3.4.3;\" # change it to the path to your own deeptools installation \n",
    "cmd += \"computeMatrix reference-point \"\n",
    "cmd += \"-S \"+bws\n",
    "cmd += \"-R \"+out_path+\"regions_sorted_by_wt_chips.tsv \"\n",
    "cmd += \"-a 100000 -b 100000 --referencePoint TSS -o \"+out_path+\"wt_kd_insulation_on_regions_sorted_by_wt_chips.matrix.gz \"\n",
    "cmd += \"--missingDataAsZero -p 20 -bs 2000 --sortRegions keep \"\n",
    "cmd += \" --outFileNameMatrix \"+out_path+\"wt_kd_insulation_on_regions_sorted_by_wt_chips.matrix.tsv \"\n",
    "cmd += \" --samplesLabel WT KD\"\n",
    "print(cmd)\n",
    "sp.check_output(cmd, shell = True)"
   ]
  },
  {
   "cell_type": "code",
   "execution_count": null,
   "metadata": {},
   "outputs": [],
   "source": [
    "# Merge insulation score matrix with the chip amtrix\n",
    "cmd = \"module load deeptools/3.4.3;\" # change it to the path to your own deeptools installation \n",
    "cmd += \"computeMatrixOperations cbind -m \"+out_path+\"wt_kd_insulation_on_regions_sorted_by_wt_chips.matrix.gz \"\n",
    "cmd += out_path+\"OnlyWtChipOnRegions.matrix.gz \"\n",
    "cmd += \"-o \"+out_path+\"merged_wtChips_insulation_chipOrderedRegions.matrix.gz\"\n",
    "sp.check_output(cmd, shell = True)"
   ]
  },
  {
   "cell_type": "code",
   "execution_count": null,
   "metadata": {},
   "outputs": [],
   "source": [
    "# plot the merged matrix\n",
    "cmd = \"module load deeptools/3.4.3;\"\n",
    "cmd += \"plotHeatmap -m \"+out_path+\"merged_wtChips_insulation_chipOrderedRegions.matrix.gz \"\n",
    "cmd += \"-o \"+out_path+\"merged_wtChips_insulation_chipOrderedRegions.matrix.pdf --sortRegions keep \"\n",
    "cmd += \"--dpi 300 --colorMap RdBu_r  --whatToShow 'heatmap and colorbar' --regionsLabel h2av- h2av+ zld-dep \"\n",
    "cmd += \"--zMin -0.3 -0.3 -100 --zMax 0.3 0.3 200 \"\n",
    "cmd += \"--samplesLabel ins_wt ins_kd h2av_wt \"\n",
    "cmd += \" --colorList 'maroon,white,grey' 'maroon,white,grey' 'grey,white,#34538A,#34538A'\"\n",
    "sp.check_output(cmd, shell = True)"
   ]
  }
 ],
 "metadata": {
  "kernelspec": {
   "display_name": " Python 3.6 ipython@maximus (MPI-IE)",
   "language": "",
   "name": "rik_ssh_maximus_python36ipythonmaximusmpiie"
  },
  "language_info": {
   "codemirror_mode": {
    "name": "ipython",
    "version": 3
   },
   "file_extension": ".py",
   "mimetype": "text/x-python",
   "name": "python",
   "nbconvert_exporter": "python",
   "pygments_lexer": "ipython3",
   "version": "3.6.7"
  }
 },
 "nbformat": 4,
 "nbformat_minor": 2
}
