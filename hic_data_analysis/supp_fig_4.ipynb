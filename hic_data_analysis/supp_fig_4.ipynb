{
 "cells": [
  {
   "cell_type": "code",
   "execution_count": null,
   "metadata": {},
   "outputs": [],
   "source": [
    "# This notebook is NOT executable. It is only provided as part of the documentation for the analysis.\n",
    "# Please make your copy and take care of the paths to your data and tools."
   ]
  },
  {
   "cell_type": "code",
   "execution_count": null,
   "metadata": {},
   "outputs": [],
   "source": [
    "# Supplementary Figure 4"
   ]
  },
  {
   "cell_type": "code",
   "execution_count": null,
   "metadata": {},
   "outputs": [],
   "source": [
    "import subprocess as sp"
   ]
  },
  {
   "cell_type": "code",
   "execution_count": null,
   "metadata": {},
   "outputs": [],
   "source": [
    "input_path = \"path/to/matrices/\"\n",
    "res = \"30\""
   ]
  },
  {
   "cell_type": "code",
   "execution_count": null,
   "metadata": {},
   "outputs": [],
   "source": [
    "# Supplementary Figure 4B"
   ]
  },
  {
   "cell_type": "code",
   "execution_count": null,
   "metadata": {},
   "outputs": [],
   "source": [
    "# plot WT 30kb matrix on 2L 2R 3L 3R 4 X"
   ]
  },
  {
   "cell_type": "code",
   "execution_count": null,
   "metadata": {},
   "outputs": [],
   "source": [
    "cmd = \"module load HiCExplorer/3.5.1;\"\n",
    "cmd += \"hicPlotMatrix -m \"+input_path+\"mergedSamples_wt_bs\"+res+\"kb.corrected.h5 \"\n",
    "cmd += \"-o mergedSamples_wt_bs\"+res+\"kb.log1p.corrected.png --colorMap Oranges --vMin 1 --vMax 100 \"\n",
    "cmd += \"--chromosomeOrder 2L 2R 3L 3R 4 X --dpi 300 --log1p \"\n",
    "sp.check_output(cmd, shell = True)"
   ]
  },
  {
   "cell_type": "code",
   "execution_count": null,
   "metadata": {},
   "outputs": [],
   "source": [
    "# plot KD 30kb matrix on 2L 2R 3L 3R 4 X"
   ]
  },
  {
   "cell_type": "code",
   "execution_count": null,
   "metadata": {},
   "outputs": [],
   "source": [
    "cmd = \"module load HiCExplorer/3.5.1;\"\n",
    "cmd += \"hicPlotMatrix -m \"+input_path+\"mergedSamples_kd_bs\"+res+\"kb.corrected.h5 \"\n",
    "cmd += \"-o mergedSamples_kd_bs\"+res+\"kb.log1p.corrected.png --vMin 1 --vMax 100 --colorMap Oranges \"\n",
    "cmd += \"--chromosomeOrder 2L 2R 3L 3R 4 X --dpi 300 --log1p \"\n",
    "sp.check_output(cmd, shell = True)"
   ]
  },
  {
   "cell_type": "code",
   "execution_count": null,
   "metadata": {},
   "outputs": [],
   "source": [
    "# log2"
   ]
  },
  {
   "cell_type": "code",
   "execution_count": null,
   "metadata": {},
   "outputs": [],
   "source": [
    "cmd = \"module load HiCExplorer/3.5.1;\"\n",
    "cmd += \"hicPlotMatrix -m kd_to_wt_\"+res+\"kb_log2ratio.h5 \"\n",
    "cmd += \"-o mergedSamples_log2_kd_wt_bs\"+res+\"kb_2.corrected.png --colorMap RdBu_r --vMin -2 --vMax 2 \"\n",
    "cmd += \"--chromosomeOrder 2L 2R 3L 3R 4 X --dpi 300 \"\n",
    "sp.check_output(cmd, shell = True)"
   ]
  }
 ],
 "metadata": {
  "kernelspec": {
   "display_name": " Python 3.6 ipython@maximus (MPI-IE)",
   "language": "",
   "name": "rik_ssh_maximus_python36ipythonmaximusmpiie"
  },
  "language_info": {
   "codemirror_mode": {
    "name": "ipython",
    "version": 3
   },
   "file_extension": ".py",
   "mimetype": "text/x-python",
   "name": "python",
   "nbconvert_exporter": "python",
   "pygments_lexer": "ipython3",
   "version": "3.6.7"
  }
 },
 "nbformat": 4,
 "nbformat_minor": 2
}
